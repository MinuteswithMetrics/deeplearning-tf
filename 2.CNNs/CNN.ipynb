{
 "cells": [
  {
   "cell_type": "code",
   "execution_count": 1,
   "metadata": {
    "collapsed": true
   },
   "outputs": [],
   "source": [
    "import tensorflow as tf\n",
    "from tensorflow.examples.tutorials.mnist import input_data\n",
    "import time\n",
    "import matplotlib.pyplot as plt\n",
    "%matplotlib inline"
   ]
  },
  {
   "cell_type": "code",
   "execution_count": 2,
   "metadata": {
    "collapsed": true
   },
   "outputs": [],
   "source": [
    "session = tf.InteractiveSession()"
   ]
  },
  {
   "cell_type": "code",
   "execution_count": 3,
   "metadata": {},
   "outputs": [
    {
     "name": "stdout",
     "output_type": "stream",
     "text": [
      "Extracting ../data/MNIST/train-images-idx3-ubyte.gz\n",
      "Extracting ../data/MNIST/train-labels-idx1-ubyte.gz\n",
      "Extracting ../data/MNIST/t10k-images-idx3-ubyte.gz\n",
      "Extracting ../data/MNIST/t10k-labels-idx1-ubyte.gz\n"
     ]
    }
   ],
   "source": [
    "mnist = input_data.read_data_sets(\"../data/MNIST\", one_hot=True)"
   ]
  },
  {
   "cell_type": "markdown",
   "metadata": {},
   "source": [
    "# General parameters"
   ]
  },
  {
   "cell_type": "code",
   "execution_count": 4,
   "metadata": {
    "collapsed": true
   },
   "outputs": [],
   "source": [
    "width = 28\n",
    "height = 28\n",
    "flat = width * height\n",
    "n_classes = 10"
   ]
  },
  {
   "cell_type": "code",
   "execution_count": 11,
   "metadata": {
    "collapsed": true
   },
   "outputs": [],
   "source": [
    "x = tf.placeholder(tf.float32, shape=[None, flat])\n",
    "y = tf.placeholder(tf.float32, shape=[None, n_classes])\n",
    "\n",
    "# Transform input into image tensor\n",
    "x_image = tf.reshape(x, [-1, height, width, 1])"
   ]
  },
  {
   "cell_type": "markdown",
   "metadata": {},
   "source": [
    "# Weights"
   ]
  },
  {
   "cell_type": "code",
   "execution_count": 12,
   "metadata": {
    "collapsed": true
   },
   "outputs": [],
   "source": [
    "def init_weights(shape):\n",
    "    w_init = tf.truncated_normal(shape, dtype=tf.float32, stddev=0.5)\n",
    "    return tf.Variable(w_init)"
   ]
  },
  {
   "cell_type": "code",
   "execution_count": 13,
   "metadata": {
    "collapsed": true
   },
   "outputs": [],
   "source": [
    "def init_bias(shape):\n",
    "    bias_init = tf.constant(0.1, shape=shape)\n",
    "    return tf.Variable(bias_init)"
   ]
  },
  {
   "cell_type": "markdown",
   "metadata": {},
   "source": [
    "# 2D Convolution"
   ]
  },
  {
   "cell_type": "code",
   "execution_count": 14,
   "metadata": {
    "collapsed": true
   },
   "outputs": [],
   "source": [
    "def conv2d(x, W):\n",
    "    return tf.nn.conv2d(x, W, strides=[1, 1, 1, 1], padding='SAME')"
   ]
  },
  {
   "cell_type": "markdown",
   "metadata": {},
   "source": [
    "# Max Pooling"
   ]
  },
  {
   "cell_type": "code",
   "execution_count": 34,
   "metadata": {
    "collapsed": true
   },
   "outputs": [],
   "source": [
    "def max_pool_2x2(x):\n",
    "    return tf.nn.max_pool(x, ksize=[1, 2, 2, 1], strides=[1, 2, 2, 1], padding='SAME')"
   ]
  },
  {
   "cell_type": "markdown",
   "metadata": {},
   "source": [
    "# Architecture"
   ]
  },
  {
   "cell_type": "markdown",
   "metadata": {},
   "source": [
    "## Conv Layer 1"
   ]
  },
  {
   "cell_type": "code",
   "execution_count": 35,
   "metadata": {},
   "outputs": [
    {
     "data": {
      "text/plain": [
       "<tf.Tensor 'add_4:0' shape=(?, 28, 28, 32) dtype=float32>"
      ]
     },
     "execution_count": 35,
     "metadata": {},
     "output_type": "execute_result"
    }
   ],
   "source": [
    "# Convolution 1: 3x3 kernels, 1 input channel, 32 feature maps\n",
    "kernel_1 = init_weights([3, 3, 1, 32])\n",
    "bias_1 = init_bias([32])\n",
    "conv_1 = conv2d(x_image, kernel_1) + bias_1\n",
    "conv_1"
   ]
  },
  {
   "cell_type": "code",
   "execution_count": 36,
   "metadata": {},
   "outputs": [
    {
     "data": {
      "text/plain": [
       "<tf.Tensor 'Relu_4:0' shape=(?, 28, 28, 32) dtype=float32>"
      ]
     },
     "execution_count": 36,
     "metadata": {},
     "output_type": "execute_result"
    }
   ],
   "source": [
    "# ReLU (conv 1)\n",
    "conv_1_a = tf.nn.relu(conv_1)\n",
    "conv_1_a"
   ]
  },
  {
   "cell_type": "code",
   "execution_count": 37,
   "metadata": {},
   "outputs": [
    {
     "data": {
      "text/plain": [
       "<tf.Tensor 'MaxPool_3:0' shape=(?, 14, 14, 32) dtype=float32>"
      ]
     },
     "execution_count": 37,
     "metadata": {},
     "output_type": "execute_result"
    }
   ],
   "source": [
    "# Max pooling (conv 1)\n",
    "max_pool_1 = max_pool_2x2(conv_1_a)\n",
    "max_pool_1"
   ]
  },
  {
   "cell_type": "code",
   "execution_count": 38,
   "metadata": {
    "collapsed": true
   },
   "outputs": [],
   "source": [
    "# Finished layer 1\n",
    "layer_1 = max_pool_1"
   ]
  },
  {
   "cell_type": "markdown",
   "metadata": {},
   "source": [
    "## Conv Layer 2"
   ]
  },
  {
   "cell_type": "code",
   "execution_count": 39,
   "metadata": {},
   "outputs": [
    {
     "data": {
      "text/plain": [
       "<tf.Tensor 'add_5:0' shape=(?, 14, 14, 64) dtype=float32>"
      ]
     },
     "execution_count": 39,
     "metadata": {},
     "output_type": "execute_result"
    }
   ],
   "source": [
    "# Convolution 2: 3x3 kernels, 32 input channel, 64 feature maps\n",
    "kernel_2 = init_weights([3, 3, 32, 64])\n",
    "bias_2 = init_bias([64])\n",
    "conv_2 = conv2d(layer_1, kernel_2) + bias_2\n",
    "conv_2"
   ]
  },
  {
   "cell_type": "code",
   "execution_count": 40,
   "metadata": {},
   "outputs": [
    {
     "data": {
      "text/plain": [
       "<tf.Tensor 'Relu_5:0' shape=(?, 14, 14, 64) dtype=float32>"
      ]
     },
     "execution_count": 40,
     "metadata": {},
     "output_type": "execute_result"
    }
   ],
   "source": [
    "# ReLU (conv 2)\n",
    "conv_2_a = tf.nn.relu(conv_2)\n",
    "conv_2_a"
   ]
  },
  {
   "cell_type": "code",
   "execution_count": 41,
   "metadata": {},
   "outputs": [
    {
     "data": {
      "text/plain": [
       "<tf.Tensor 'MaxPool_4:0' shape=(?, 7, 7, 64) dtype=float32>"
      ]
     },
     "execution_count": 41,
     "metadata": {},
     "output_type": "execute_result"
    }
   ],
   "source": [
    "# Max pooling (conv 2)\n",
    "max_pool_2 = max_pool_2x2(conv_2_a)\n",
    "max_pool_2"
   ]
  },
  {
   "cell_type": "code",
   "execution_count": 42,
   "metadata": {
    "collapsed": true
   },
   "outputs": [],
   "source": [
    "# Finished layer 1\n",
    "layer_2 = max_pool_2"
   ]
  },
  {
   "cell_type": "markdown",
   "metadata": {},
   "source": [
    "## Fully Connected Layer"
   ]
  },
  {
   "cell_type": "code",
   "execution_count": 47,
   "metadata": {
    "collapsed": true
   },
   "outputs": [],
   "source": [
    "img_height, img_width, feature_maps = layer_2.get_shape().as_list()[1:]"
   ]
  },
  {
   "cell_type": "code",
   "execution_count": 50,
   "metadata": {},
   "outputs": [
    {
     "data": {
      "text/plain": [
       "<tf.Tensor 'Reshape_3:0' shape=(?, 3136) dtype=float32>"
      ]
     },
     "execution_count": 50,
     "metadata": {},
     "output_type": "execute_result"
    }
   ],
   "source": [
    "# Flatten image\n",
    "flat_units = img_height * img_width * feature_maps\n",
    "flat_image = tf.reshape(layer_2, [-1, flat_units])\n",
    "flat_image"
   ]
  },
  {
   "cell_type": "code",
   "execution_count": 53,
   "metadata": {},
   "outputs": [
    {
     "data": {
      "text/plain": [
       "<tf.Tensor 'add_7:0' shape=(?, 1024) dtype=float32>"
      ]
     },
     "execution_count": 53,
     "metadata": {},
     "output_type": "execute_result"
    }
   ],
   "source": [
    "kernel_3 = init_weights([flat_units, 1024])\n",
    "bias_3 = init_bias([1024])\n",
    "fcn_1 = tf.matmul(flat_image, kernel_3) + bias_3\n",
    "fcn_1"
   ]
  },
  {
   "cell_type": "code",
   "execution_count": 54,
   "metadata": {},
   "outputs": [
    {
     "data": {
      "text/plain": [
       "<tf.Tensor 'Relu_7:0' shape=(?, 1024) dtype=float32>"
      ]
     },
     "execution_count": 54,
     "metadata": {},
     "output_type": "execute_result"
    }
   ],
   "source": [
    "# ReLU (conv 2)\n",
    "fcn_1_a = tf.nn.relu(fcn_1)\n",
    "fcn_1_a"
   ]
  },
  {
   "cell_type": "code",
   "execution_count": 57,
   "metadata": {},
   "outputs": [
    {
     "data": {
      "text/plain": [
       "<tf.Tensor 'dropout_1/mul:0' shape=(?, 1024) dtype=float32>"
      ]
     },
     "execution_count": 57,
     "metadata": {},
     "output_type": "execute_result"
    }
   ],
   "source": [
    "# Dropout\n",
    "keep_prob = tf.placeholder(dtype=tf.float32)\n",
    "fcn_1_drop = tf.nn.dropout(fcn_1_a, keep_prob=keep_prob)\n",
    "fcn_1_drop"
   ]
  },
  {
   "cell_type": "code",
   "execution_count": 55,
   "metadata": {
    "collapsed": true
   },
   "outputs": [],
   "source": [
    "# Finished layer 3\n",
    "layer_3 = fcn_1_drop"
   ]
  },
  {
   "cell_type": "markdown",
   "metadata": {},
   "source": [
    "## Softmax"
   ]
  },
  {
   "cell_type": "code",
   "execution_count": 59,
   "metadata": {},
   "outputs": [
    {
     "data": {
      "text/plain": [
       "<tf.Tensor 'add_8:0' shape=(?, 10) dtype=float32>"
      ]
     },
     "execution_count": 59,
     "metadata": {},
     "output_type": "execute_result"
    }
   ],
   "source": [
    "kernel_4 = init_weights([1024, n_classes])\n",
    "bias_4 = init_bias([n_classes])\n",
    "pre_softmax = tf.matmul(fcn_1_drop, kernel_4) + bias_4\n",
    "pre_softmax"
   ]
  },
  {
   "cell_type": "code",
   "execution_count": 60,
   "metadata": {},
   "outputs": [
    {
     "data": {
      "text/plain": [
       "<tf.Tensor 'Softmax:0' shape=(?, 10) dtype=float32>"
      ]
     },
     "execution_count": 60,
     "metadata": {},
     "output_type": "execute_result"
    }
   ],
   "source": [
    "softmax = tf.nn.softmax(pre_softmax)\n",
    "softmax"
   ]
  },
  {
   "cell_type": "markdown",
   "metadata": {},
   "source": [
    "# Train configuration"
   ]
  },
  {
   "cell_type": "code",
   "execution_count": 79,
   "metadata": {},
   "outputs": [
    {
     "data": {
      "text/plain": [
       "<tf.Tensor 'Mean_1:0' shape=() dtype=float32>"
      ]
     },
     "execution_count": 79,
     "metadata": {},
     "output_type": "execute_result"
    }
   ],
   "source": [
    "loss = tf.reduce_mean(tf.nn.softmax_cross_entropy_with_logits(logits=pre_softmax, labels=y))\n",
    "loss"
   ]
  },
  {
   "cell_type": "code",
   "execution_count": 80,
   "metadata": {
    "collapsed": true
   },
   "outputs": [],
   "source": [
    "correct_predictions = tf.equal(tf.arg_max(softmax, dimension=1), tf.arg_max(y, dimension=1))\n",
    "accuracy = tf.reduce_mean(tf.cast(correct_predictions, tf.float32))"
   ]
  },
  {
   "cell_type": "code",
   "execution_count": 94,
   "metadata": {
    "collapsed": true
   },
   "outputs": [],
   "source": [
    "train_step = tf.train.GradientDescentOptimizer(0.001).minimize(loss)"
   ]
  },
  {
   "cell_type": "code",
   "execution_count": 99,
   "metadata": {
    "collapsed": true
   },
   "outputs": [],
   "source": [
    "# Initialize variables\n",
    "batch_size = 100\n",
    "iterations = 2000\n",
    "session.run(tf.global_variables_initializer())\n",
    "train_losses = []\n",
    "val_losses = []"
   ]
  },
  {
   "cell_type": "code",
   "execution_count": 100,
   "metadata": {},
   "outputs": [
    {
     "name": "stdout",
     "output_type": "stream",
     "text": [
      "[0.00%] Validation loss: 695.941\n",
      "[2.50%] Validation loss: 25.753\n",
      "[5.00%] Validation loss: 12.167\n",
      "[7.50%] Validation loss: 9.331\n",
      "[10.00%] Validation loss: 5.484\n",
      "[12.50%] Validation loss: 3.468\n",
      "[15.00%] Validation loss: 2.621\n",
      "[17.50%] Validation loss: 2.425\n",
      "[20.00%] Validation loss: 2.325\n",
      "[22.50%] Validation loss: 2.304\n",
      "[25.00%] Validation loss: 2.094\n",
      "[27.50%] Validation loss: 2.083\n",
      "[30.00%] Validation loss: 2.387\n",
      "[32.50%] Validation loss: 2.051\n",
      "[35.00%] Validation loss: 1.968\n",
      "[37.50%] Validation loss: 1.955\n",
      "[40.00%] Validation loss: 1.994\n",
      "[42.50%] Validation loss: 1.918\n",
      "[45.00%] Validation loss: 1.932\n",
      "[47.50%] Validation loss: 1.874\n",
      "[50.00%] Validation loss: 1.940\n",
      "[52.50%] Validation loss: 1.815\n",
      "[55.00%] Validation loss: 1.856\n",
      "[57.50%] Validation loss: 1.863\n",
      "[60.00%] Validation loss: 1.794\n",
      "[62.50%] Validation loss: 1.813\n",
      "[65.00%] Validation loss: 1.773\n",
      "[67.50%] Validation loss: 1.780\n",
      "[70.00%] Validation loss: 1.747\n",
      "[72.50%] Validation loss: 2.093\n",
      "[75.00%] Validation loss: 1.798\n",
      "[77.50%] Validation loss: 1.888\n",
      "[80.00%] Validation loss: 1.785\n",
      "[82.50%] Validation loss: 1.723\n",
      "[85.00%] Validation loss: 1.913\n",
      "[87.50%] Validation loss: 1.649\n",
      "[90.00%] Validation loss: 1.658\n",
      "[92.50%] Validation loss: 1.618\n",
      "[95.00%] Validation loss: 1.663\n",
      "[97.50%] Validation loss: 1.570\n",
      "Training time: 187.33 s\n"
     ]
    }
   ],
   "source": [
    "start = time.time()\n",
    "for i in range(iterations):        \n",
    "    batch = mnist.train.next_batch(batch_size)\n",
    "    train_dict = {\n",
    "        x: batch[0],\n",
    "        y: batch[1],\n",
    "        keep_prob: 0.8\n",
    "    }\n",
    "    session.run(train_step, feed_dict=train_dict)\n",
    "    # Evaluate train loss\n",
    "    train_loss = loss.eval(feed_dict=train_dict)\n",
    "    train_losses.append(train_loss)\n",
    "    \n",
    "    # Evaluate validation loss\n",
    "    if i % 50 == 0:\n",
    "        val_loss = loss.eval(feed_dict={\n",
    "            x: mnist.validation.images,\n",
    "            y: mnist.validation.labels,\n",
    "            keep_prob: 1.0\n",
    "        })\n",
    "        val_losses.append(val_loss)\n",
    "        print('[{:.2%}] Validation loss: {:.3f}'.format(i / iterations, val_loss))\n",
    "        \n",
    "end = time.time()\n",
    "print('Training time: {:.2f} s'.format(end - start))"
   ]
  },
  {
   "cell_type": "markdown",
   "metadata": {},
   "source": [
    "## Training plot"
   ]
  },
  {
   "cell_type": "code",
   "execution_count": 102,
   "metadata": {},
   "outputs": [
    {
     "data": {
      "text/plain": [
       "<matplotlib.legend.Legend at 0x7ffb38239828>"
      ]
     },
     "execution_count": 102,
     "metadata": {},
     "output_type": "execute_result"
    },
    {
     "data": {
      "image/png": "[encoded data removed]",
      "text/plain": [
       "<matplotlib.figure.Figure at 0x7ffb382eca90>"
      ]
     },
     "metadata": {},
     "output_type": "display_data"
    },
    {
     "data": {
      "image/png": "[encoded data removed]",
      "text/plain": [
       "<matplotlib.figure.Figure at 0x7ffb382390b8>"
      ]
     },
     "metadata": {},
     "output_type": "display_data"
    }
   ],
   "source": [
    "plt.figure(figsize=(10, 10))\n",
    "plt.plot(train_losses[10:], label='Train loss')\n",
    "plt.xlabel('Iterations')\n",
    "plt.ylabel('Loss (x-entropy)')\n",
    "plt.legend()\n",
    "\n",
    "plt.figure(figsize=(10, 10))\n",
    "plt.plot(val_losses, color='green', label='Validation loss')\n",
    "plt.xlabel('Iterations')\n",
    "plt.ylabel('Loss (x-entropy)')\n",
    "plt.legend()"
   ]
  },
  {
   "cell_type": "markdown",
   "metadata": {},
   "source": [
    "# Test"
   ]
  },
  {
   "cell_type": "code",
   "execution_count": 103,
   "metadata": {},
   "outputs": [
    {
     "name": "stdout",
     "output_type": "stream",
     "text": [
      "Test accuracy: 49.79%\n"
     ]
    }
   ],
   "source": [
    "acc = accuracy.eval(feed_dict={\n",
    "    x: mnist.test.images,\n",
    "    y: mnist.test.labels,\n",
    "    keep_prob: 1\n",
    "})\n",
    "\n",
    "print('Test accuracy: {:.2%}'.format(acc))"
   ]
  },
  {
   "cell_type": "code",
   "execution_count": null,
   "metadata": {
    "collapsed": true
   },
   "outputs": [],
   "source": []
  }
 ],
 "metadata": {
  "kernelspec": {
   "display_name": "Python 3",
   "language": "python",
   "name": "python3"
  },
  "language_info": {
   "codemirror_mode": {
    "name": "ipython",
    "version": 3
   },
   "file_extension": ".py",
   "mimetype": "text/x-python",
   "name": "python",
   "nbconvert_exporter": "python",
   "pygments_lexer": "ipython3",
   "version": "3.5.3"
  }
 },
 "nbformat": 4,
 "nbformat_minor": 2
}
